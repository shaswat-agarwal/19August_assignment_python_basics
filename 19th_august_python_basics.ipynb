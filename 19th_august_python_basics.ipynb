{
 "cells": [
  {
   "cell_type": "code",
   "execution_count": 2,
   "id": "03baf9e9-3f52-4c3c-a0e9-85abe64c7604",
   "metadata": {},
   "outputs": [
    {
     "data": {
      "text/plain": [
       "'1.Declare two variables, `x` and `y`, and assign them integer values. Swap the\\nvalues of these variables without using any temporary variable.'"
      ]
     },
     "execution_count": 2,
     "metadata": {},
     "output_type": "execute_result"
    }
   ],
   "source": [
    "   '''1.Declare two variables, `x` and `y`, and assign them integer values. Swap the\n",
    "values of these variables without using any temporary variable.'''"
   ]
  },
  {
   "cell_type": "code",
   "execution_count": 14,
   "id": "69d57116-f580-4f4a-b8ef-0a59c658f5d1",
   "metadata": {},
   "outputs": [
    {
     "name": "stdout",
     "output_type": "stream",
     "text": [
      "Before swap x:5 and y:10\n",
      "After swap x:10 and y:5\n"
     ]
    }
   ],
   "source": [
    "# Step 1: Declare and initialize variables\n",
    "x = 5\n",
    "y = 10\n",
    "print(f\"Before swap x:{x} and y:{y}\")\n",
    "x=x+y\n",
    "y=x-y\n",
    "x=x-y\n",
    "print(f\"After swap x:{x} and y:{y}\")"
   ]
  },
  {
   "cell_type": "code",
   "execution_count": null,
   "id": "1718fe41-3f3e-40ae-a973-4c345aa2b96f",
   "metadata": {},
   "outputs": [],
   "source": [
    "# here we declared two variable and then assigned them integer value and then print their value before swapping.\n",
    "#Then we swapped their values by adding values of  both the variable and store it in \"x\" variable then we swapped value of variable \"y\" by substracting the value of variable x-y.\n",
    "#Then again for variable x we did the same and hence we swapped the values of both variables."
   ]
  },
  {
   "cell_type": "code",
   "execution_count": 17,
   "id": "8166521b-6e36-4bab-8477-96fc9cfd23ab",
   "metadata": {},
   "outputs": [
    {
     "data": {
      "text/plain": [
       "'2. Create a program that calculates the area of a rectangle. Take the length and\\nwidth as inputs from the user and store them in variables. Calculate and\\ndisplay the area.'"
      ]
     },
     "execution_count": 17,
     "metadata": {},
     "output_type": "execute_result"
    }
   ],
   "source": [
    " '''2. Create a program that calculates the area of a rectangle. Take the length and\n",
    "width as inputs from the user and store them in variables. Calculate and\n",
    "display the area.'''\n"
   ]
  },
  {
   "cell_type": "code",
   "execution_count": 19,
   "id": "2c83f02b-7366-401c-ab06-1887aaff2f1b",
   "metadata": {},
   "outputs": [
    {
     "name": "stdin",
     "output_type": "stream",
     "text": [
      "Enter the length of the rectangle:  10\n",
      "Enter the width of the rectangle:  5\n"
     ]
    },
    {
     "name": "stdout",
     "output_type": "stream",
     "text": [
      "The area of the rectangle is: 50.0\n"
     ]
    }
   ],
   "source": [
    "# Step 1: input from the user for length and width\n",
    "length = float(input(\"Enter the length of the rectangle: \")) # Taking user input for length and converting it to a floating-point number\n",
    "width = float(input(\"Enter the width of the rectangle: \"))   # Taking user input for width and converting it to a floating-point number\n",
    "\n",
    "# Step 2: Calculate the area of the rectangle using the formula: area = length * width\n",
    "area = length * width # Calculating the area by multiplying length and width\n",
    "\n",
    "# Step 3: Display the calculated area to the user\n",
    "print(\"The area of the rectangle is:\", area) # Printing the calculated area"
   ]
  },
  {
   "cell_type": "code",
   "execution_count": 20,
   "id": "f81f43d5-4e04-4c80-95df-10939de651e0",
   "metadata": {},
   "outputs": [
    {
     "data": {
      "text/plain": [
       "'3.Write a Python program that converts temperatures from Celsius to\\nFahrenheit. Take the temperature in Celsius as input, store it in a variable,\\nconvert it to Fahrenheit, and display the result.'"
      ]
     },
     "execution_count": 20,
     "metadata": {},
     "output_type": "execute_result"
    }
   ],
   "source": [
    "'''3.Write a Python program that converts temperatures from Celsius to\n",
    "Fahrenheit. Take the temperature in Celsius as input, store it in a variable,\n",
    "convert it to Fahrenheit, and display the result.'''"
   ]
  },
  {
   "cell_type": "code",
   "execution_count": 23,
   "id": "6a8093e2-068e-441d-82de-56ba2b9e2713",
   "metadata": {},
   "outputs": [
    {
     "name": "stdin",
     "output_type": "stream",
     "text": [
      "Enter temperature in Celsius:  10\n"
     ]
    },
    {
     "name": "stdout",
     "output_type": "stream",
     "text": [
      "10.0 Celsius is equal to 50.0 Fahrenheit\n"
     ]
    }
   ],
   "source": [
    "# Step 1: Get the temperature in Celsius from the user\n",
    "celsius= float(input(\"Enter temperature in Celsius: \"))\n",
    "\n",
    "# Step 2: Convert Celsius to Fahrenheit using the formula: (C * 9/5) + 32\n",
    "fahrenheit= (celsius* 9/5) + 32\n",
    "\n",
    "# Step 3: Display the converted temperature in Fahrenheit\n",
    "print(f\"{celsius} Celsius is equal to {fahrenheit} Fahrenheit\")"
   ]
  },
  {
   "cell_type": "code",
   "execution_count": 24,
   "id": "3b69daae-6d47-47b5-a493-da862109633c",
   "metadata": {},
   "outputs": [
    {
     "data": {
      "text/plain": [
       "' We start by getting the temperature in Celsius from the user using the input() function. The float() function is used to convert the input to a floating-point number (decimal number) since temperatures can have decimal values.\\n\\n Next, we perform the conversion from Celsius to Fahrenheit using the given formula: Fahrenheit = (Celsius * 9/5) + 32. We store the result in the fahrenheit variable.\\n\\nFinally, we use the print() function to display the original Celsius temperature and the converted Fahrenheit temperature.'"
      ]
     },
     "execution_count": 24,
     "metadata": {},
     "output_type": "execute_result"
    }
   ],
   "source": [
    "''' We start by getting the temperature in Celsius from the user using the input() function. The float() function is used to convert the input to a floating-point number (decimal number) since temperatures can have decimal values.\n",
    "\n",
    " Next, we perform the conversion from Celsius to Fahrenheit using the given formula: Fahrenheit = (Celsius * 9/5) + 32. We store the result in the fahrenheit variable.\n",
    "\n",
    "Finally, we use the print() function to display the original Celsius temperature and the converted Fahrenheit temperature.''' "
   ]
  },
  {
   "cell_type": "code",
   "execution_count": null,
   "id": "5575a149-9cba-4f75-9687-07b96d9c4742",
   "metadata": {},
   "outputs": [],
   "source": [
    "#TOPIC: String Based Questions"
   ]
  },
  {
   "cell_type": "code",
   "execution_count": null,
   "id": "b894b6bf-2041-476c-9414-c961c28cdbef",
   "metadata": {},
   "outputs": [],
   "source": [
    "#1. Write a Python program that takes a string as input and prints the length of the string."
   ]
  },
  {
   "cell_type": "code",
   "execution_count": 25,
   "id": "ff7bcfd5-6908-4d84-855e-b58171fac2b2",
   "metadata": {},
   "outputs": [
    {
     "name": "stdin",
     "output_type": "stream",
     "text": [
      "Enter a string:  shaswat\n"
     ]
    },
    {
     "name": "stdout",
     "output_type": "stream",
     "text": [
      "The length of the input string is: 7\n"
     ]
    }
   ],
   "source": [
    "# Step 1: take input from the user\n",
    "string = input(\"Enter a string: \")\n",
    "\n",
    "# Step 2: Calculate the length of the input string using the built-in len() function\n",
    "length = len(string)\n",
    "\n",
    "# Step 3: Print the length of the string\n",
    "print(\"The length of the input string is:\",length)"
   ]
  },
  {
   "cell_type": "code",
   "execution_count": 26,
   "id": "8139f2f9-df1d-4815-a581-5e1812ab3979",
   "metadata": {},
   "outputs": [],
   "source": [
    "#string = input(\"Enter a string: \") It is used to take input from user and store it in variable string\n",
    "#length=len(string) this line calculates the length of the string using built in function len().\n",
    "#print(\"The length of the input string is:\",length).This line is used to give output to the user.\n"
   ]
  },
  {
   "cell_type": "code",
   "execution_count": 27,
   "id": "ea4da0ad-7452-404c-a1d0-f27e73d4a229",
   "metadata": {},
   "outputs": [
    {
     "data": {
      "text/plain": [
       "'2. Create a program that takes a sentence from the user and counts the number\\nof vowels (a, e, i, o, u) in the string.'"
      ]
     },
     "execution_count": 27,
     "metadata": {},
     "output_type": "execute_result"
    }
   ],
   "source": [
    "'''2. Create a program that takes a sentence from the user and counts the number\n",
    "of vowels (a, e, i, o, u) in the string.'''"
   ]
  },
  {
   "cell_type": "code",
   "execution_count": 28,
   "id": "8d15d0ee-21ec-4157-97f2-e1eac4a17597",
   "metadata": {},
   "outputs": [
    {
     "name": "stdin",
     "output_type": "stream",
     "text": [
      "Enter a sentence:  hello my name is shaswat\n"
     ]
    },
    {
     "name": "stdout",
     "output_type": "stream",
     "text": [
      "Number of vowels: 7\n"
     ]
    }
   ],
   "source": [
    "# Step 1: take input from the user\n",
    "sentence = input(\"Enter a sentence: \")\n",
    "\n",
    "# Step 2: Initialize a variable to count the vowels\n",
    "vowel_count = 0\n",
    "\n",
    "# Step 3: Iterate through each character in the sentence\n",
    "for char in sentence:\n",
    "    # Step 4: Convert the character to lowercase to handle both uppercase and lowercase vowels\n",
    "    char_lower = char.lower()\n",
    "\n",
    "    # Step 5: Check if the character is a vowel (a, e, i, o, u)\n",
    "    if char_lower in \"aeiou\":\n",
    "        # Step 6: If the character is a vowel, increment the vowel_count variable\n",
    "        vowel_count += 1\n",
    "\n",
    "# Step 7: Display the result\n",
    "print(\"Number of vowels:\", vowel_count)"
   ]
  },
  {
   "cell_type": "code",
   "execution_count": 29,
   "id": "dd1b7ff9-e84d-452a-a160-fd87539bfd17",
   "metadata": {},
   "outputs": [
    {
     "data": {
      "text/plain": [
       "'3. Given a string, reverse the order of characters using string slicing and print\\nthe reversed string.'"
      ]
     },
     "execution_count": 29,
     "metadata": {},
     "output_type": "execute_result"
    }
   ],
   "source": [
    "'''3. Given a string, reverse the order of characters using string slicing and print\n",
    "the reversed string.'''\n"
   ]
  },
  {
   "cell_type": "code",
   "execution_count": 31,
   "id": "6465a431-f232-4061-9ca9-f568437d7d21",
   "metadata": {},
   "outputs": [
    {
     "name": "stdin",
     "output_type": "stream",
     "text": [
      "Enter a string:  shaswat\n"
     ]
    },
    {
     "name": "stdout",
     "output_type": "stream",
     "text": [
      "Reversed string: tawsahs\n"
     ]
    }
   ],
   "source": [
    "# Step 1: Get the input string from the user\n",
    "string = input(\"Enter a string: \")\n",
    "\n",
    "# Step 2: Use string slicing to reverse the string\n",
    "# Syntax: [start:end:step]\n",
    "rev = string[::-1]\n",
    "\n",
    "# Step 3: Print the reversed string\n",
    "print(\"Reversed string:\", rev)"
   ]
  },
  {
   "cell_type": "code",
   "execution_count": 33,
   "id": "1e893956-5fcb-436b-ac88-8b1eb17c368e",
   "metadata": {},
   "outputs": [
    {
     "data": {
      "text/plain": [
       "'4. Write a program that takes a string as input and checks if it is a palindrome\\n(reads the same forwards and backwards).'"
      ]
     },
     "execution_count": 33,
     "metadata": {},
     "output_type": "execute_result"
    }
   ],
   "source": [
    "'''4. Write a program that takes a string as input and checks if it is a palindrome\n",
    "(reads the same forwards and backwards).'''\n"
   ]
  },
  {
   "cell_type": "code",
   "execution_count": 1,
   "id": "a1ff6bda-7139-4585-b431-2de87441d3b5",
   "metadata": {},
   "outputs": [
    {
     "name": "stdin",
     "output_type": "stream",
     "text": [
      "Enter a string:  nitin\n"
     ]
    },
    {
     "name": "stdout",
     "output_type": "stream",
     "text": [
      "palindrome\n"
     ]
    }
   ],
   "source": [
    "# Step 1: Get the input string from the user\n",
    "string = input(\"Enter a string: \")\n",
    "\n",
    "# Step 2: Use string slicing to reverse the string\n",
    "# Syntax: [start:end:step]\n",
    "rev = string[::-1]\n",
    "if string==rev:\n",
    "    print(\"palindrome\")\n",
    "else:\n",
    "    print(\"not a palindrome\")"
   ]
  },
  {
   "cell_type": "code",
   "execution_count": 2,
   "id": "161deb30-880d-470e-9433-521b30bf3715",
   "metadata": {},
   "outputs": [
    {
     "data": {
      "text/plain": [
       "'5. Create a program that takes a string as input and removes all the spaces from\\nit. Print the modified string without spaces.'"
      ]
     },
     "execution_count": 2,
     "metadata": {},
     "output_type": "execute_result"
    }
   ],
   "source": [
    "'''5. Create a program that takes a string as input and removes all the spaces from\n",
    "it. Print the modified string without spaces.'''"
   ]
  },
  {
   "cell_type": "code",
   "execution_count": 3,
   "id": "23ad7cd4-32da-40f4-b1df-2adbdab5e63b",
   "metadata": {},
   "outputs": [
    {
     "name": "stdin",
     "output_type": "stream",
     "text": [
      "Enter a string:  shaswat is a nice guy\n"
     ]
    },
    {
     "name": "stdout",
     "output_type": "stream",
     "text": [
      "Modified string without spaces: shaswatisaniceguy\n"
     ]
    }
   ],
   "source": [
    "# Step 1: Taking input from the user\n",
    "string = input(\"Enter a string: \")\n",
    "\n",
    "# Step 2: Initialize an empty string to store the modified string without spaces\n",
    "modified_string = \"\"\n",
    "\n",
    "# Step 3: Iterate through each character in the input string\n",
    "for char in string:\n",
    "    # Step 4: Check if the character is not a space\n",
    "    if char != \" \":\n",
    "        # Step 5: If not a space, append the character to the modified string\n",
    "        modified_string += char\n",
    "\n",
    "# Step 6: Print the modified string without spaces\n",
    "print(\"Modified string without spaces:\", modified_string)"
   ]
  },
  {
   "cell_type": "code",
   "execution_count": null,
   "id": "41b0ae59-e4ff-40bd-928c-c0b572275da0",
   "metadata": {},
   "outputs": [],
   "source": []
  }
 ],
 "metadata": {
  "kernelspec": {
   "display_name": "Python 3 (ipykernel)",
   "language": "python",
   "name": "python3"
  },
  "language_info": {
   "codemirror_mode": {
    "name": "ipython",
    "version": 3
   },
   "file_extension": ".py",
   "mimetype": "text/x-python",
   "name": "python",
   "nbconvert_exporter": "python",
   "pygments_lexer": "ipython3",
   "version": "3.10.8"
  }
 },
 "nbformat": 4,
 "nbformat_minor": 5
}
